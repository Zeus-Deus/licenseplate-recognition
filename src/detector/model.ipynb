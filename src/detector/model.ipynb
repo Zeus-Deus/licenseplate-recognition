{
 "cells": [
  {
   "cell_type": "code",
   "execution_count": null,
   "id": "00ccd8d1",
   "metadata": {},
   "outputs": [],
   "source": [
    "from ultralytics import YOLO\n",
    "import os\n",
    "import shutil"
   ]
  },
  {
   "cell_type": "code",
   "execution_count": null,
   "id": "e608f5b6",
   "metadata": {},
   "outputs": [],
   "source": [
    "path = \"/root/.cache/kagglehub/datasets/fareselmenshawii/large-license-plate-dataset/versions/1\""
   ]
  },
  {
   "cell_type": "code",
   "execution_count": null,
   "id": "e61bf230",
   "metadata": {},
   "outputs": [],
   "source": [
    "# Maak de dataset directory structuur aan en kopieer zowel afbeeldingen als labels\n",
    "kaggle_dir = path  # Pad naar de Kaggle dataset\n",
    "local_dataset_dir = os.path.join('datasets', 'license_plate_dataset')\n",
    "\n",
    "# Maak de hoofdmap aan\n",
    "os.makedirs(local_dataset_dir, exist_ok=True)\n",
    "\n",
    "if os.path.exists(kaggle_dir):\n",
    "    # Kopieer zowel images als labels\n",
    "    for data_type in ['images', 'labels']:\n",
    "        src_type_dir = os.path.join(kaggle_dir, data_type)\n",
    "        dst_type_dir = os.path.join(local_dataset_dir, data_type)\n",
    "        \n",
    "        # Maak hoofdmap aan\n",
    "        os.makedirs(dst_type_dir, exist_ok=True)\n",
    "        \n",
    "        # Kopieer train, val en test mappen\n",
    "        if os.path.exists(src_type_dir):\n",
    "            for folder in ['train', 'val', 'test']:\n",
    "                src_folder = os.path.join(src_type_dir, folder)\n",
    "                dst_folder = os.path.join(dst_type_dir, folder)\n",
    "                \n",
    "                if os.path.exists(src_folder):\n",
    "                    if not os.path.exists(dst_folder):\n",
    "                        print(f\"Kopiëren van {data_type}/{folder} dataset...\")\n",
    "                        shutil.copytree(src_folder, dst_folder)\n",
    "                    else:\n",
    "                        print(f\"{data_type}/{folder} dataset bestaat al in {dst_folder}\")\n",
    "                else:\n",
    "                    print(f\"Waarschuwing: Kon de bronmap {src_folder} niet vinden\")\n",
    "        else:\n",
    "            print(f\"Waarschuwing: Kon de map {src_type_dir} niet vinden\")\n",
    "            \n",
    "    print(\"Dataset setup voltooid!\")\n",
    "else:\n",
    "    print(f\"Fout: Kan de Kaggle dataset niet vinden op {kaggle_dir}\")\n",
    "    print(\"Je moet mogelijk de dataset handmatig downloaden en uitpakken naar de juiste locatie.\")"
   ]
  },
  {
   "cell_type": "code",
   "execution_count": null,
   "id": "28e06c0c",
   "metadata": {},
   "outputs": [],
   "source": [
    "# Controleren of het model en dataset bestanden bestaan\n",
    "model_path = 'yolov8n.pt'\n",
    "dataset_path = os.path.abspath('dataset.yaml')\n",
    "\n",
    "print(f\"Model file exists: {os.path.exists(model_path)}\")\n",
    "print(f\"Dataset file exists: {os.path.exists(dataset_path)}\")\n",
    "\n",
    "# Controleer of de dataset mappen bestaan\n",
    "for folder in ['train', 'val', 'test']:\n",
    "    folder_path = os.path.join('datasets', 'license_plate_dataset', 'images', folder)\n",
    "    print(f\"Dataset {folder} folder exists: {os.path.exists(folder_path)}\")\n",
    "\n",
    "# Laad een voorgetraind YOLOv8 model\n",
    "model = YOLO(model_path)  # 'n' staat voor nano (kleinste versie)\n",
    "\n",
    "# Train het model met je dataset\n",
    "results = model.train(\n",
    "    data=dataset_path,\n",
    "    epochs=50,\n",
    "    imgsz=640,\n",
    "    batch=16,\n",
    "    name='license_plate_detector',\n",
    "    project=os.path.join('runs', 'detect'),  # Expliciet project pad opgeven\n",
    "    cache=True  # Cache gebruiken om laden van afbeeldingen te versnellen\n",
    ")\n"
   ]
  }
 ],
 "metadata": {
  "kernelspec": {
   "display_name": "Python 3",
   "language": "python",
   "name": "python3"
  },
  "language_info": {
   "codemirror_mode": {
    "name": "ipython",
    "version": 3
   },
   "file_extension": ".py",
   "mimetype": "text/x-python",
   "name": "python",
   "nbconvert_exporter": "python",
   "pygments_lexer": "ipython3",
   "version": "3.11.11"
  }
 },
 "nbformat": 4,
 "nbformat_minor": 5
}
